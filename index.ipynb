{
 "cells": [
  {
   "cell_type": "markdown",
   "metadata": {},
   "source": [
    "# Combinatorics and Probability - Introduction\n",
    "\n",
    "## Introduction\n",
    "In this section, you'll learn about the foundation of statistics: probability!\n",
    "\n",
    "## Combinatorics and Probability\n",
    "\n",
    "In this section, we'll take a little time to \"get our math on\" with some basic probability. You're going to start with some basic set theory and look at how to operate on related sets using Python.\n",
    "\n",
    "From there, we're going to use what we learned about sets to start to learn and apply some of the basic rules of probability.\n",
    "\n",
    "### Factorials and Permutations\n",
    "\n",
    "Next we're going to dig into factorials, and how they can be used to calculate various permutations.\n",
    "\n",
    "### Combinations\n",
    "\n",
    "We're then going to examine the difference between permutations and combinations. We'll get some practice calculating combinations for everything from drawing letters from a bag to creating soccer teams for a tournament!\n",
    "\n",
    "### Conditional Probability\n",
    "\n",
    "We start the section off with an introduction to conditional probability. We look at the difference between dependent and independent events, look at how to calculate dependent probabilities, and then introduce some key theorems related to conditional probabilities: the product rule, the chain rule, and Bayes theorem.\n",
    "\n",
    "### Partitioning and the Law of Total Probabilities\n",
    "\n",
    "From there, we introduce the concept of partitioning a sample space, explain the law of total probabilities, and then introduce the idea of conditional independence.\n",
    "\n",
    "\n",
    "## Summary\n",
    "\n",
    "This is a mathematics heavy section. Some of the discrete problems you'll solve may not seem to be particularly relevant to machine learning, but we deliberately introduce them so that you have the foundations required to make thoughtful choices as we introduce you to a range of new machine learning models in the later sections.  "
   ]
  }
 ],
 "metadata": {
  "kernelspec": {
   "display_name": "Python 3",
   "language": "python",
   "name": "python3"
  },
  "language_info": {
   "codemirror_mode": {
    "name": "ipython",
    "version": 3
   },
   "file_extension": ".py",
   "mimetype": "text/x-python",
   "name": "python",
   "nbconvert_exporter": "python",
   "pygments_lexer": "ipython3",
   "version": "3.6.9"
  },
  "toc": {
   "base_numbering": 1,
   "nav_menu": {},
   "number_sections": true,
   "sideBar": true,
   "skip_h1_title": false,
   "title_cell": "Table of Contents",
   "title_sidebar": "Contents",
   "toc_cell": false,
   "toc_position": {},
   "toc_section_display": true,
   "toc_window_display": false
  }
 },
 "nbformat": 4,
 "nbformat_minor": 2
}
